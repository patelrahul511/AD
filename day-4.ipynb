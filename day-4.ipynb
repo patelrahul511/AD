{
 "cells": [
  {
   "cell_type": "markdown",
   "id": "438fb896-db7e-411d-98c4-e2f4c39e0d16",
   "metadata": {},
   "source": [
    "### tuple"
   ]
  },
  {
   "cell_type": "code",
   "execution_count": 14,
   "id": "82923877-b667-47ec-bb5f-c1a94c4fc7f4",
   "metadata": {},
   "outputs": [
    {
     "data": {
      "text/plain": [
       "(90, 50, 60, 70)"
      ]
     },
     "execution_count": 14,
     "metadata": {},
     "output_type": "execute_result"
    }
   ],
   "source": [
    "h = (90, 50, 60, 70)\n",
    "h"
   ]
  },
  {
   "cell_type": "code",
   "execution_count": 18,
   "id": "3932973e-13b1-405a-bf68-7d69494ac7a7",
   "metadata": {},
   "outputs": [
    {
     "data": {
      "text/plain": [
       "tuple"
      ]
     },
     "execution_count": 18,
     "metadata": {},
     "output_type": "execute_result"
    }
   ],
   "source": [
    "type(h) # tells the type"
   ]
  },
  {
   "cell_type": "code",
   "execution_count": 16,
   "id": "d2a9f9ad-5def-426a-8d73-051cf63221c0",
   "metadata": {},
   "outputs": [
    {
     "data": {
      "text/plain": [
       "1"
      ]
     },
     "execution_count": 16,
     "metadata": {},
     "output_type": "execute_result"
    }
   ],
   "source": [
    "h.count(90) # count of the particular value"
   ]
  },
  {
   "cell_type": "code",
   "execution_count": 20,
   "id": "d252edaf-00c8-475a-9323-41d811296d1b",
   "metadata": {},
   "outputs": [
    {
     "data": {
      "text/plain": [
       "3"
      ]
     },
     "execution_count": 20,
     "metadata": {},
     "output_type": "execute_result"
    }
   ],
   "source": [
    "h.index(70) # index of a particular value"
   ]
  },
  {
   "cell_type": "code",
   "execution_count": 22,
   "id": "f6822577-f6b5-4e87-9816-13bea0bd52ab",
   "metadata": {},
   "outputs": [
    {
     "data": {
      "text/plain": [
       "(90, 50, 60)"
      ]
     },
     "execution_count": 22,
     "metadata": {},
     "output_type": "execute_result"
    }
   ],
   "source": [
    "h[0:3] # accesing"
   ]
  },
  {
   "cell_type": "code",
   "execution_count": 24,
   "id": "a5d31cc0-6ded-4e26-84b8-db956235c458",
   "metadata": {},
   "outputs": [
    {
     "data": {
      "text/plain": [
       "(90, 50, 60, 70)"
      ]
     },
     "execution_count": 24,
     "metadata": {},
     "output_type": "execute_result"
    }
   ],
   "source": [
    "h[:4]"
   ]
  },
  {
   "cell_type": "code",
   "execution_count": 26,
   "id": "68e7abf4-1dcf-4605-941a-6fcf24da004d",
   "metadata": {},
   "outputs": [
    {
     "data": {
      "text/plain": [
       "()"
      ]
     },
     "execution_count": 26,
     "metadata": {},
     "output_type": "execute_result"
    }
   ],
   "source": [
    "h[4:]"
   ]
  },
  {
   "cell_type": "code",
   "execution_count": 30,
   "id": "35d1d1a6-317c-482d-bd8d-9d8a15f6559b",
   "metadata": {},
   "outputs": [
    {
     "data": {
      "text/plain": [
       "(90, 50, 60, 70)"
      ]
     },
     "execution_count": 30,
     "metadata": {},
     "output_type": "execute_result"
    }
   ],
   "source": [
    "h[0:]"
   ]
  },
  {
   "cell_type": "markdown",
   "id": "a3ce4a69-1c76-4862-a8dd-b90e8b92081a",
   "metadata": {},
   "source": [
    "### Set"
   ]
  },
  {
   "cell_type": "code",
   "execution_count": 34,
   "id": "a1840bce-7d65-49e8-bc29-316ad90c14c2",
   "metadata": {},
   "outputs": [
    {
     "data": {
      "text/plain": [
       "{45, 56, 70, 856}"
      ]
     },
     "execution_count": 34,
     "metadata": {},
     "output_type": "execute_result"
    }
   ],
   "source": [
    "t = {70, 56, 45, 856}\n",
    "t"
   ]
  },
  {
   "cell_type": "code",
   "execution_count": 36,
   "id": "9a94d19c-a412-4254-bc35-5f0ba3732a2a",
   "metadata": {},
   "outputs": [
    {
     "data": {
      "text/plain": [
       "set"
      ]
     },
     "execution_count": 36,
     "metadata": {},
     "output_type": "execute_result"
    }
   ],
   "source": [
    "type(t)"
   ]
  },
  {
   "cell_type": "code",
   "execution_count": 40,
   "id": "b9b04d24-b644-4adf-b9ae-6eb773002276",
   "metadata": {},
   "outputs": [],
   "source": [
    "t.remove(70)"
   ]
  },
  {
   "cell_type": "code",
   "execution_count": 42,
   "id": "ede11e94-4049-4dad-b0ab-5fb98ed06fa3",
   "metadata": {},
   "outputs": [
    {
     "data": {
      "text/plain": [
       "{45, 56, 856}"
      ]
     },
     "execution_count": 42,
     "metadata": {},
     "output_type": "execute_result"
    }
   ],
   "source": [
    "t"
   ]
  },
  {
   "cell_type": "code",
   "execution_count": 44,
   "id": "045b4b3b-5b69-427c-bde2-33521ee9b159",
   "metadata": {},
   "outputs": [],
   "source": [
    "g = {78, 56, 666}"
   ]
  },
  {
   "cell_type": "code",
   "execution_count": 46,
   "id": "85016396-5892-4519-9183-55cbd95c4914",
   "metadata": {},
   "outputs": [
    {
     "data": {
      "text/plain": [
       "{45, 856}"
      ]
     },
     "execution_count": 46,
     "metadata": {},
     "output_type": "execute_result"
    }
   ],
   "source": [
    "t.difference(g) # difference b/w the 2 sets"
   ]
  },
  {
   "cell_type": "code",
   "execution_count": 48,
   "id": "ffcacf51-2e3c-4f88-bac8-4c2c45ccfe7d",
   "metadata": {},
   "outputs": [
    {
     "data": {
      "text/plain": [
       "{78, 666}"
      ]
     },
     "execution_count": 48,
     "metadata": {},
     "output_type": "execute_result"
    }
   ],
   "source": [
    "g.difference(t) # difference b/w the 2 sets"
   ]
  },
  {
   "cell_type": "code",
   "execution_count": 52,
   "id": "c76690c8-51a6-4ab5-be3d-640e9f381b17",
   "metadata": {},
   "outputs": [
    {
     "data": {
      "text/plain": [
       "{56}"
      ]
     },
     "execution_count": 52,
     "metadata": {},
     "output_type": "execute_result"
    }
   ],
   "source": [
    "t.intersection(g) # finds out the  common elemment in the sets"
   ]
  },
  {
   "cell_type": "code",
   "execution_count": 54,
   "id": "96c26629-0354-4057-9a31-54f504df7dc4",
   "metadata": {},
   "outputs": [
    {
     "data": {
      "text/plain": [
       "{56}"
      ]
     },
     "execution_count": 54,
     "metadata": {},
     "output_type": "execute_result"
    }
   ],
   "source": [
    "g.intersection(t)"
   ]
  },
  {
   "cell_type": "code",
   "execution_count": 56,
   "id": "c7194f83-0382-4530-a93d-41fdf1031b2c",
   "metadata": {},
   "outputs": [
    {
     "data": {
      "text/plain": [
       "{45, 56, 78, 666, 856}"
      ]
     },
     "execution_count": 56,
     "metadata": {},
     "output_type": "execute_result"
    }
   ],
   "source": [
    "t.union(g) # combines the all elements removes the duplicate values"
   ]
  },
  {
   "cell_type": "code",
   "execution_count": 58,
   "id": "af9bd924-9cde-47e1-aa0f-a40d124841fd",
   "metadata": {},
   "outputs": [
    {
     "data": {
      "text/plain": [
       "{45, 56, 78, 666, 856}"
      ]
     },
     "execution_count": 58,
     "metadata": {},
     "output_type": "execute_result"
    }
   ],
   "source": [
    "g.union(t)"
   ]
  },
  {
   "cell_type": "code",
   "execution_count": 60,
   "id": "42d56e57-15f6-48e2-a2ec-96432984fe86",
   "metadata": {},
   "outputs": [
    {
     "data": {
      "text/plain": [
       "{78, 666}"
      ]
     },
     "execution_count": 60,
     "metadata": {},
     "output_type": "execute_result"
    }
   ],
   "source": [
    "g.difference(t) # takes only the values purely from set g"
   ]
  },
  {
   "cell_type": "code",
   "execution_count": 62,
   "id": "8b7a5a04-cbc5-4a04-a98d-f5cfb6a0ae58",
   "metadata": {},
   "outputs": [
    {
     "data": {
      "text/plain": [
       "{45, 856}"
      ]
     },
     "execution_count": 62,
     "metadata": {},
     "output_type": "execute_result"
    }
   ],
   "source": [
    "t.difference(g) # takes the values purely from set t"
   ]
  },
  {
   "cell_type": "code",
   "execution_count": 64,
   "id": "6af44e79-f9b0-4b9f-b97b-eb98546c9cf5",
   "metadata": {},
   "outputs": [
    {
     "data": {
      "text/plain": [
       "{45, 78, 666, 856}"
      ]
     },
     "execution_count": 64,
     "metadata": {},
     "output_type": "execute_result"
    }
   ],
   "source": [
    "t.symmetric_difference(g) # find out the symmetric difference"
   ]
  },
  {
   "cell_type": "code",
   "execution_count": 66,
   "id": "76cf2d79-ddc5-4ccd-8f08-c9e52c23b277",
   "metadata": {},
   "outputs": [
    {
     "data": {
      "text/plain": [
       "tuple"
      ]
     },
     "execution_count": 66,
     "metadata": {},
     "output_type": "execute_result"
    }
   ],
   "source": [
    "a = (50, 70, 80, 90)\n",
    "a\n",
    "type(a)"
   ]
  },
  {
   "cell_type": "code",
   "execution_count": 68,
   "id": "8cba6065-dbf5-465e-9a1c-6e7e07dec969",
   "metadata": {},
   "outputs": [],
   "source": [
    "d = list(a) #we could not directly add the elements directly so firstly we need to convert it into lists anthen we can modify them"
   ]
  },
  {
   "cell_type": "code",
   "execution_count": 70,
   "id": "6c6fd132-3bea-4547-8956-e1fe3846188f",
   "metadata": {},
   "outputs": [
    {
     "data": {
      "text/plain": [
       "[50, 70, 80, 90]"
      ]
     },
     "execution_count": 70,
     "metadata": {},
     "output_type": "execute_result"
    }
   ],
   "source": [
    "d"
   ]
  },
  {
   "cell_type": "code",
   "execution_count": 78,
   "id": "b80843b1-315c-4f06-af5a-9743ee4cd620",
   "metadata": {},
   "outputs": [],
   "source": [
    "d.append(60) # appending elements"
   ]
  },
  {
   "cell_type": "code",
   "execution_count": 82,
   "id": "7a0c6d80-c791-4a3e-9113-25cbeed1e0b4",
   "metadata": {},
   "outputs": [
    {
     "data": {
      "text/plain": [
       "[50, 70, 80, 90, 60, 60]"
      ]
     },
     "execution_count": 82,
     "metadata": {},
     "output_type": "execute_result"
    }
   ],
   "source": [
    "d"
   ]
  },
  {
   "cell_type": "code",
   "execution_count": 72,
   "id": "65e36629-151c-4a85-867d-1f44c5dc4d0c",
   "metadata": {},
   "outputs": [],
   "source": [
    "a = tuple(d)"
   ]
  },
  {
   "cell_type": "code",
   "execution_count": 74,
   "id": "515def0f-7fe3-46a5-84bf-eaefedfb4c02",
   "metadata": {},
   "outputs": [
    {
     "data": {
      "text/plain": [
       "(50, 70, 80, 90)"
      ]
     },
     "execution_count": 74,
     "metadata": {},
     "output_type": "execute_result"
    }
   ],
   "source": [
    "a"
   ]
  },
  {
   "cell_type": "code",
   "execution_count": null,
   "id": "b9c94efb-1292-4bd8-a2bf-66ebca9f9a7c",
   "metadata": {},
   "outputs": [],
   "source": []
  }
 ],
 "metadata": {
  "kernelspec": {
   "display_name": "Python [conda env:base] *",
   "language": "python",
   "name": "conda-base-py"
  },
  "language_info": {
   "codemirror_mode": {
    "name": "ipython",
    "version": 3
   },
   "file_extension": ".py",
   "mimetype": "text/x-python",
   "name": "python",
   "nbconvert_exporter": "python",
   "pygments_lexer": "ipython3",
   "version": "3.12.7"
  }
 },
 "nbformat": 4,
 "nbformat_minor": 5
}
