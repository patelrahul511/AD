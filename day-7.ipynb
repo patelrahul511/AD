{
 "cells": [
  {
   "cell_type": "markdown",
   "id": "d0fca745-7633-407e-83e0-b8d9f51c7fee",
   "metadata": {},
   "source": [
    "## LOOPING STATEMENTS"
   ]
  },
  {
   "cell_type": "markdown",
   "id": "93141602-e242-4286-b66f-6c0fd6018615",
   "metadata": {},
   "source": [
    "### I)FOR LOOP\n",
    "### II)WHILE LOOP"
   ]
  },
  {
   "cell_type": "code",
   "execution_count": 3,
   "id": "5bef5445-d0ab-4d22-a1a8-6f4a8c2254b2",
   "metadata": {},
   "outputs": [
    {
     "name": "stdout",
     "output_type": "stream",
     "text": [
      "Yes 5\n",
      "Yes 5.5\n",
      "Yes 6.0\n",
      "Yes 6.5\n",
      "Yes 7.0\n",
      "Yes 7.5\n",
      "Yes 8.0\n",
      "Yes 8.5\n",
      "Yes 9.0\n",
      "Yes 9.5\n"
     ]
    }
   ],
   "source": [
    "# FOR LOOP\n",
    "x=5\n",
    "while x<10:\n",
    "    print('Yes',x)\n",
    "    x=x+0.5"
   ]
  },
  {
   "cell_type": "code",
   "execution_count": 5,
   "id": "7b58ff87-464b-42f6-b9ce-82287cebbc17",
   "metadata": {},
   "outputs": [
    {
     "name": "stdout",
     "output_type": "stream",
     "text": [
      "Yes 5\n",
      "Yes 7\n",
      "Yes 9\n"
     ]
    }
   ],
   "source": [
    "x=5\n",
    "while x<10:\n",
    "    print('Yes',x)\n",
    "    x=x+2"
   ]
  },
  {
   "cell_type": "code",
   "execution_count": 1,
   "id": "4df7dbd4-edc6-4259-8ec2-fd7cdf1afc16",
   "metadata": {},
   "outputs": [
    {
     "name": "stdout",
     "output_type": "stream",
     "text": [
      "Yes 5\n",
      "Yes 5.5\n",
      "Yes 6.0\n",
      "Yes 6.5\n",
      "Yes 7.0\n",
      "Yes 7.5\n",
      "Yes 8.0\n",
      "Yes 8.5\n",
      "Yes 9.0\n",
      "Yes 9.5\n"
     ]
    }
   ],
   "source": [
    "x=5\n",
    "while x<10:\n",
    "    print('Yes',x)\n",
    "    x=x+0.5"
   ]
  },
  {
   "cell_type": "code",
   "execution_count": 3,
   "id": "5fe7dac9-c308-4638-9b50-81d59c4370e9",
   "metadata": {},
   "outputs": [],
   "source": [
    "x=25\n",
    "while x<10:\n",
    "    print('Yes',x)\n",
    "    x=x-5"
   ]
  },
  {
   "cell_type": "code",
   "execution_count": 19,
   "id": "a85da46c-4610-4944-981b-31c9de9afd01",
   "metadata": {},
   "outputs": [
    {
     "name": "stdout",
     "output_type": "stream",
     "text": [
      "Yes 70\n",
      "Yes 65\n",
      "Yes 60\n",
      "Yes 55\n",
      "Yes 50\n"
     ]
    }
   ],
   "source": [
    "x=70\n",
    "while x > 45:\n",
    "    print('Yes',x)\n",
    "    x=x-5"
   ]
  },
  {
   "cell_type": "code",
   "execution_count": 21,
   "id": "17857f96-4e30-4339-854b-9fc416a3d854",
   "metadata": {},
   "outputs": [
    {
     "name": "stdout",
     "output_type": "stream",
     "text": [
      "Hello\n"
     ]
    }
   ],
   "source": [
    "print(\"Hello\")"
   ]
  },
  {
   "cell_type": "code",
   "execution_count": 23,
   "id": "7a35747b-90c5-4a0e-b764-d536c53ec0bd",
   "metadata": {},
   "outputs": [
    {
     "data": {
      "text/plain": [
       "45"
      ]
     },
     "execution_count": 23,
     "metadata": {},
     "output_type": "execute_result"
    }
   ],
   "source": [
    "x"
   ]
  },
  {
   "cell_type": "code",
   "execution_count": 26,
   "id": "534d7ad7-a63f-44ae-9135-54ad7bdccb2a",
   "metadata": {},
   "outputs": [
    {
     "data": {
      "text/plain": [
       "[40, 25, 56, 78, 82, 66, 83]"
      ]
     },
     "execution_count": 26,
     "metadata": {},
     "output_type": "execute_result"
    }
   ],
   "source": [
    "y=[40,25,56,78,82,66,83]\n",
    "y"
   ]
  },
  {
   "cell_type": "code",
   "execution_count": 32,
   "id": "6378bddb-cc25-47f8-addc-757f54b4a129",
   "metadata": {},
   "outputs": [
    {
     "ename": "TypeError",
     "evalue": "can only concatenate list (not \"int\") to list",
     "output_type": "error",
     "traceback": [
      "\u001b[1;31m---------------------------------------------------------------------------\u001b[0m",
      "\u001b[1;31mTypeError\u001b[0m                                 Traceback (most recent call last)",
      "Cell \u001b[1;32mIn[32], line 1\u001b[0m\n\u001b[1;32m----> 1\u001b[0m y\u001b[38;5;241m+\u001b[39m\u001b[38;5;241m5\u001b[39m\n",
      "\u001b[1;31mTypeError\u001b[0m: can only concatenate list (not \"int\") to list"
     ]
    }
   ],
   "source": [
    "y+5  #this is broadcasting property this is not applicable here"
   ]
  },
  {
   "cell_type": "code",
   "execution_count": 34,
   "id": "b39eed62-a45a-4662-9806-814e0c42a728",
   "metadata": {},
   "outputs": [
    {
     "data": {
      "text/plain": [
       "[40, 25, 56, 78, 82, 66, 83, 40, 25, 56, 78, 82, 66, 83]"
      ]
     },
     "execution_count": 34,
     "metadata": {},
     "output_type": "execute_result"
    }
   ],
   "source": [
    "y*2"
   ]
  },
  {
   "cell_type": "code",
   "execution_count": 36,
   "id": "25e650c4-566e-4bb4-9829-a7dbbe75d89a",
   "metadata": {},
   "outputs": [
    {
     "data": {
      "text/plain": [
       "[40, 25, 56, 78, 82, 66, 83]"
      ]
     },
     "execution_count": 36,
     "metadata": {},
     "output_type": "execute_result"
    }
   ],
   "source": [
    "y"
   ]
  },
  {
   "cell_type": "code",
   "execution_count": 44,
   "id": "029ebdd0-446e-4093-8f41-ed99f4fd8420",
   "metadata": {},
   "outputs": [
    {
     "data": {
      "text/plain": [
       "[40, 25, 56, 78, 82, 66, 83]"
      ]
     },
     "execution_count": 44,
     "metadata": {},
     "output_type": "execute_result"
    }
   ],
   "source": [
    "radius=[40,25,56,78,82,66,83]\n",
    "radius"
   ]
  },
  {
   "cell_type": "code",
   "execution_count": 122,
   "id": "168944b2-2330-4290-a489-9428171648b2",
   "metadata": {},
   "outputs": [
    {
     "name": "stdout",
     "output_type": "stream",
     "text": [
      "5024.0\n",
      "1962.5\n",
      "9847.04\n",
      "19103.760000000002\n",
      "21113.36\n",
      "13677.84\n",
      "21631.46\n"
     ]
    }
   ],
   "source": [
    "for i in radius:   #finding radius for each element in the list\n",
    "   values= print(3.14*i*i)"
   ]
  },
  {
   "cell_type": "code",
   "execution_count": 128,
   "id": "4a398dcd-940f-4e20-8926-82af359f5b38",
   "metadata": {},
   "outputs": [],
   "source": [
    "area=[]\n",
    "for i in radius: #appending the found area into the list named area\n",
    "    area.append(3.14*i*i)"
   ]
  },
  {
   "cell_type": "code",
   "execution_count": 130,
   "id": "754da7eb-ba7a-4163-bb92-f90db92ac16b",
   "metadata": {},
   "outputs": [
    {
     "data": {
      "text/plain": [
       "[5024.0, 1962.5, 9847.04, 19103.760000000002, 21113.36, 13677.84, 21631.46]"
      ]
     },
     "execution_count": 130,
     "metadata": {},
     "output_type": "execute_result"
    }
   ],
   "source": [
    "area"
   ]
  },
  {
   "cell_type": "code",
   "execution_count": 135,
   "id": "6cb3f2c9-fdea-448c-af7f-05d9711aae15",
   "metadata": {},
   "outputs": [
    {
     "data": {
      "text/plain": [
       "list"
      ]
     },
     "execution_count": 135,
     "metadata": {},
     "output_type": "execute_result"
    }
   ],
   "source": [
    "type(area)"
   ]
  },
  {
   "cell_type": "code",
   "execution_count": 137,
   "id": "3ffeb81d-3603-4265-beef-9d279447d80d",
   "metadata": {},
   "outputs": [
    {
     "data": {
      "text/plain": [
       "[52, 56, 18, 45, 87, 4, 79, 456, 47, 85, 12, 4, 55, 51151, 498]"
      ]
     },
     "execution_count": 137,
     "metadata": {},
     "output_type": "execute_result"
    }
   ],
   "source": [
    "num=[52,56,18,45,87,4,79,456,47,85,12,4,55,51151,498]\n",
    "num"
   ]
  },
  {
   "cell_type": "code",
   "execution_count": 139,
   "id": "333cd9b4-0d03-422f-bd79-57cc7832fbff",
   "metadata": {},
   "outputs": [
    {
     "name": "stdout",
     "output_type": "stream",
     "text": [
      "Even\n",
      "Even\n",
      "Even\n",
      "Odd\n",
      "Odd\n",
      "Even\n",
      "Odd\n",
      "Even\n",
      "Odd\n",
      "Odd\n",
      "Even\n",
      "Even\n",
      "Odd\n",
      "Odd\n",
      "Even\n"
     ]
    }
   ],
   "source": [
    "for i in num:\n",
    "    if(i%2==0):\n",
    "        print(\"Even\")\n",
    "    else:\n",
    "        print(\"Odd\")"
   ]
  },
  {
   "cell_type": "code",
   "execution_count": 195,
   "id": "de1a6876-b631-448f-94cc-9bcee59b34c3",
   "metadata": {},
   "outputs": [],
   "source": [
    "#condition for checking and sagregatting even and odd elements\n",
    "even=[]\n",
    "odd=[]\n",
    "for i in num:\n",
    "    if i%2==0:\n",
    "        even.append(i)\n",
    "    else:\n",
    "        odd.append(i)"
   ]
  },
  {
   "cell_type": "code",
   "execution_count": 197,
   "id": "0d9f6ac9-ff8f-417b-a86a-a817f6268de8",
   "metadata": {},
   "outputs": [
    {
     "name": "stdout",
     "output_type": "stream",
     "text": [
      "Even [52, 56, 18, 4, 456, 12, 4, 498]\n"
     ]
    }
   ],
   "source": [
    "print(\"Even\",even)"
   ]
  },
  {
   "cell_type": "code",
   "execution_count": 199,
   "id": "ee5554fa-3454-41e0-b1c0-576e9e04e96c",
   "metadata": {},
   "outputs": [
    {
     "name": "stdout",
     "output_type": "stream",
     "text": [
      "Odd [45, 87, 79, 47, 85, 55, 51151]\n"
     ]
    }
   ],
   "source": [
    "print(\"Odd\",odd)"
   ]
  },
  {
   "cell_type": "code",
   "execution_count": 201,
   "id": "2008530a-bb30-4315-8de3-0a37df4f2b98",
   "metadata": {},
   "outputs": [],
   "source": [
    "#condition for checking and sagregatting even and odd elements\n",
    "#If even return i square and odd return i cube\n",
    "even=[]\n",
    "odd=[]\n",
    "for i in num:\n",
    "    if i%2==0:\n",
    "        even.append(i*i)\n",
    "    else:\n",
    "        odd.append(i*i*i)"
   ]
  },
  {
   "cell_type": "code",
   "execution_count": 203,
   "id": "a94e7491-16c0-4701-84e4-06bf9d6204ce",
   "metadata": {},
   "outputs": [
    {
     "data": {
      "text/plain": [
       "[91125, 658503, 493039, 103823, 614125, 166375, 133832744995951]"
      ]
     },
     "execution_count": 203,
     "metadata": {},
     "output_type": "execute_result"
    }
   ],
   "source": [
    "odd"
   ]
  },
  {
   "cell_type": "code",
   "execution_count": 205,
   "id": "aace4b0e-56d5-407d-85c7-212fd5ad2fc0",
   "metadata": {},
   "outputs": [
    {
     "data": {
      "text/plain": [
       "[2704, 3136, 324, 16, 207936, 144, 16, 248004]"
      ]
     },
     "execution_count": 205,
     "metadata": {},
     "output_type": "execute_result"
    }
   ],
   "source": [
    "even"
   ]
  },
  {
   "cell_type": "code",
   "execution_count": 235,
   "id": "4413abde-21c1-492b-81ab-45d45126c2ed",
   "metadata": {},
   "outputs": [],
   "source": [
    "num1=[39,56,98,99,79,59,65]"
   ]
  },
  {
   "cell_type": "code",
   "execution_count": 253,
   "id": "2732c415-2c8e-4026-85b0-7f7f31e5ec0f",
   "metadata": {},
   "outputs": [],
   "source": [
    "a=39\n"
   ]
  },
  {
   "cell_type": "code",
   "execution_count": 255,
   "id": "dca977c7-6ca4-484e-9d73-eb0c3b3c7ade",
   "metadata": {},
   "outputs": [
    {
     "data": {
      "text/plain": [
       "'39'"
      ]
     },
     "execution_count": 255,
     "metadata": {},
     "output_type": "execute_result"
    }
   ],
   "source": [
    "str(a)"
   ]
  },
  {
   "cell_type": "code",
   "execution_count": 257,
   "id": "081f4218-a71e-4bb5-ac5f-bef5800ba43e",
   "metadata": {},
   "outputs": [],
   "source": [
    "d=str(a)"
   ]
  },
  {
   "cell_type": "code",
   "execution_count": 259,
   "id": "221ad5e8-b4fb-4eee-9a7e-4e5a88873959",
   "metadata": {},
   "outputs": [
    {
     "data": {
      "text/plain": [
       "'31'"
      ]
     },
     "execution_count": 259,
     "metadata": {},
     "output_type": "execute_result"
    }
   ],
   "source": [
    "d.replace('9','1')"
   ]
  },
  {
   "cell_type": "code",
   "execution_count": 261,
   "id": "2087e1ef-2fbb-4bc6-85cb-2422b65708b1",
   "metadata": {},
   "outputs": [],
   "source": [
    "h=[]\n",
    "for i in num1:\n",
    "    a=str(i)\n",
    "    b=a.replace('9','1')  #changes the 9 at last to 1 \n",
    "    c=int(b)\n",
    "    h.append(c)"
   ]
  },
  {
   "cell_type": "code",
   "execution_count": 263,
   "id": "d2b00874-f24d-4a56-8bc6-3c5bf141f880",
   "metadata": {},
   "outputs": [
    {
     "data": {
      "text/plain": [
       "[31, 56, 18, 11, 71, 51, 65]"
      ]
     },
     "execution_count": 263,
     "metadata": {},
     "output_type": "execute_result"
    }
   ],
   "source": [
    "h"
   ]
  },
  {
   "cell_type": "code",
   "execution_count": 279,
   "id": "6fc69dab-f40e-4c1f-9781-5fa65df15c2c",
   "metadata": {},
   "outputs": [],
   "source": [
    "a='Software'\n",
    "b=''\n",
    "for i in a:\n",
    "    if i.lower() not in ('s','o'):\n",
    "        b+=i"
   ]
  },
  {
   "cell_type": "code",
   "execution_count": 281,
   "id": "b7dd60da-34ea-4ab1-af8d-e69f52b308b0",
   "metadata": {},
   "outputs": [
    {
     "data": {
      "text/plain": [
       "'ftware'"
      ]
     },
     "execution_count": 281,
     "metadata": {},
     "output_type": "execute_result"
    }
   ],
   "source": [
    "b"
   ]
  },
  {
   "cell_type": "code",
   "execution_count": null,
   "id": "f261b041-ad3c-45fa-bafb-4f4430fa029c",
   "metadata": {},
   "outputs": [],
   "source": []
  }
 ],
 "metadata": {
  "kernelspec": {
   "display_name": "Python [conda env:base] *",
   "language": "python",
   "name": "conda-base-py"
  },
  "language_info": {
   "codemirror_mode": {
    "name": "ipython",
    "version": 3
   },
   "file_extension": ".py",
   "mimetype": "text/x-python",
   "name": "python",
   "nbconvert_exporter": "python",
   "pygments_lexer": "ipython3",
   "version": "3.12.7"
  }
 },
 "nbformat": 4,
 "nbformat_minor": 5
}
