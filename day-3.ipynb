{
 "cells": [
  {
   "cell_type": "markdown",
   "id": "5caf9e96-44c0-45df-953e-1cd3772ac458",
   "metadata": {},
   "source": [
    "### LIST\n",
    "### creating a list"
   ]
  },
  {
   "cell_type": "code",
   "execution_count": 18,
   "id": "b2d61e6f-e061-4b46-b6ae-30959eaed9e6",
   "metadata": {},
   "outputs": [],
   "source": [
    "c = [\"hello\", 485, True, False, \"AP\", ]"
   ]
  },
  {
   "cell_type": "code",
   "execution_count": 20,
   "id": "88f7266a-bb15-4f22-9d31-9959fb617bbb",
   "metadata": {},
   "outputs": [
    {
     "data": {
      "text/plain": [
       "['hello', 485, True, False, 'AP']"
      ]
     },
     "execution_count": 20,
     "metadata": {},
     "output_type": "execute_result"
    }
   ],
   "source": [
    "c"
   ]
  },
  {
   "cell_type": "code",
   "execution_count": 5,
   "id": "c92eb85e-5a07-4c65-9a42-e71438702dd5",
   "metadata": {},
   "outputs": [
    {
     "data": {
      "text/plain": [
       "'hello'"
      ]
     },
     "execution_count": 5,
     "metadata": {},
     "output_type": "execute_result"
    }
   ],
   "source": [
    "c[0]"
   ]
  },
  {
   "cell_type": "code",
   "execution_count": 7,
   "id": "c04f093e-8272-4d0d-8922-c52372936159",
   "metadata": {},
   "outputs": [
    {
     "ename": "IndexError",
     "evalue": "list index out of range",
     "output_type": "error",
     "traceback": [
      "\u001b[1;31m---------------------------------------------------------------------------\u001b[0m",
      "\u001b[1;31mIndexError\u001b[0m                                Traceback (most recent call last)",
      "Cell \u001b[1;32mIn[7], line 1\u001b[0m\n\u001b[1;32m----> 1\u001b[0m c[\u001b[38;5;241m7\u001b[39m]\n",
      "\u001b[1;31mIndexError\u001b[0m: list index out of range"
     ]
    }
   ],
   "source": [
    "c[7]"
   ]
  },
  {
   "cell_type": "code",
   "execution_count": 16,
   "id": "0f55f7c1-0a15-4c27-bb80-3a8ca5dc1752",
   "metadata": {},
   "outputs": [
    {
     "data": {
      "text/plain": [
       "'AP'"
      ]
     },
     "execution_count": 16,
     "metadata": {},
     "output_type": "execute_result"
    }
   ],
   "source": [
    "c[4]"
   ]
  },
  {
   "cell_type": "code",
   "execution_count": 18,
   "id": "e3b5da50-3e35-4cf0-84ef-8029250a0155",
   "metadata": {},
   "outputs": [
    {
     "data": {
      "text/plain": [
       "'AP'"
      ]
     },
     "execution_count": 18,
     "metadata": {},
     "output_type": "execute_result"
    }
   ],
   "source": [
    "c[-1]"
   ]
  },
  {
   "cell_type": "code",
   "execution_count": 22,
   "id": "8ec2c8d6-0e07-4d8a-babc-137bb094e4ee",
   "metadata": {},
   "outputs": [
    {
     "data": {
      "text/plain": [
       "485"
      ]
     },
     "execution_count": 22,
     "metadata": {},
     "output_type": "execute_result"
    }
   ],
   "source": [
    "c[-4]"
   ]
  },
  {
   "cell_type": "code",
   "execution_count": 24,
   "id": "13d97a8d-b546-45c0-9cf4-33bf05b7601c",
   "metadata": {},
   "outputs": [
    {
     "data": {
      "text/plain": [
       "True"
      ]
     },
     "execution_count": 24,
     "metadata": {},
     "output_type": "execute_result"
    }
   ],
   "source": [
    "c[1]==c[-4]"
   ]
  },
  {
   "cell_type": "code",
   "execution_count": 26,
   "id": "7124ed13-43f9-42d6-9bb4-a07f8673c53d",
   "metadata": {},
   "outputs": [
    {
     "data": {
      "text/plain": [
       "False"
      ]
     },
     "execution_count": 26,
     "metadata": {},
     "output_type": "execute_result"
    }
   ],
   "source": [
    "c[1]!=c[-4]"
   ]
  },
  {
   "cell_type": "code",
   "execution_count": 5,
   "id": "2eff0c23-2e48-488d-b49b-d8101139bfe9",
   "metadata": {},
   "outputs": [
    {
     "data": {
      "text/plain": [
       "False"
      ]
     },
     "execution_count": 5,
     "metadata": {},
     "output_type": "execute_result"
    }
   ],
   "source": [
    "c[1]>c[-4]"
   ]
  },
  {
   "cell_type": "markdown",
   "id": "489b5de6-117b-4922-acb1-d52da308ca6b",
   "metadata": {},
   "source": [
    "### Traversing [start:end]"
   ]
  },
  {
   "cell_type": "code",
   "execution_count": 7,
   "id": "f5003cfc-8ad7-4047-b5dc-57e3d012a9f4",
   "metadata": {},
   "outputs": [
    {
     "data": {
      "text/plain": [
       "[485, True, False, 'AP']"
      ]
     },
     "execution_count": 7,
     "metadata": {},
     "output_type": "execute_result"
    }
   ],
   "source": [
    "c[1:5]"
   ]
  },
  {
   "cell_type": "code",
   "execution_count": 9,
   "id": "602567ea-c23a-4dae-920d-bbaddc2e3a21",
   "metadata": {},
   "outputs": [
    {
     "data": {
      "text/plain": [
       "['hello', 485, True, False, 'AP']"
      ]
     },
     "execution_count": 9,
     "metadata": {},
     "output_type": "execute_result"
    }
   ],
   "source": [
    "c[0:9]"
   ]
  },
  {
   "cell_type": "code",
   "execution_count": 11,
   "id": "b735631f-6b9a-4d39-956e-7ee1b4c95a13",
   "metadata": {},
   "outputs": [
    {
     "data": {
      "text/plain": [
       "['hello', 485, True, False, 'AP']"
      ]
     },
     "execution_count": 11,
     "metadata": {},
     "output_type": "execute_result"
    }
   ],
   "source": [
    "c[:6]"
   ]
  },
  {
   "cell_type": "code",
   "execution_count": 22,
   "id": "6837ff9e-e62b-42b7-826c-52501b33d857",
   "metadata": {},
   "outputs": [
    {
     "data": {
      "text/plain": [
       "list"
      ]
     },
     "execution_count": 22,
     "metadata": {},
     "output_type": "execute_result"
    }
   ],
   "source": [
    "type(c)"
   ]
  },
  {
   "cell_type": "code",
   "execution_count": 24,
   "id": "c3b22e72-3894-4b9f-8214-ea7d8cf417e9",
   "metadata": {},
   "outputs": [
    {
     "data": {
      "text/plain": [
       "['AP']"
      ]
     },
     "execution_count": 24,
     "metadata": {},
     "output_type": "execute_result"
    }
   ],
   "source": [
    "c[4:]"
   ]
  },
  {
   "cell_type": "code",
   "execution_count": 32,
   "id": "098db9b1-06f8-4ff3-be6a-4ffdea094b4f",
   "metadata": {},
   "outputs": [
    {
     "data": {
      "text/plain": [
       "['hello', True]"
      ]
     },
     "execution_count": 32,
     "metadata": {},
     "output_type": "execute_result"
    }
   ],
   "source": [
    "c[0:4:2]"
   ]
  },
  {
   "cell_type": "code",
   "execution_count": 34,
   "id": "9e7311c3-cbff-4fde-95f9-1159eb6a8568",
   "metadata": {},
   "outputs": [
    {
     "data": {
      "text/plain": [
       "['hello', 485, True, False, 'AP']"
      ]
     },
     "execution_count": 34,
     "metadata": {},
     "output_type": "execute_result"
    }
   ],
   "source": [
    "c[0:6:1]"
   ]
  },
  {
   "cell_type": "code",
   "execution_count": 36,
   "id": "d23a77f9-f412-4262-a67d-20611d2a5ea5",
   "metadata": {},
   "outputs": [
    {
     "data": {
      "text/plain": [
       "[485, True, False, 'AP']"
      ]
     },
     "execution_count": 36,
     "metadata": {},
     "output_type": "execute_result"
    }
   ],
   "source": [
    "c[1:7:1]"
   ]
  },
  {
   "cell_type": "code",
   "execution_count": 38,
   "id": "5f03a995-1bb4-45f8-826f-e7e9c4ba228e",
   "metadata": {},
   "outputs": [
    {
     "data": {
      "text/plain": [
       "[]"
      ]
     },
     "execution_count": 38,
     "metadata": {},
     "output_type": "execute_result"
    }
   ],
   "source": [
    "c[5:5:5]"
   ]
  },
  {
   "cell_type": "code",
   "execution_count": 40,
   "id": "4ca3fc3c-440d-4b80-b1e2-ba4bb1d385ea",
   "metadata": {},
   "outputs": [
    {
     "data": {
      "text/plain": [
       "[]"
      ]
     },
     "execution_count": 40,
     "metadata": {},
     "output_type": "execute_result"
    }
   ],
   "source": [
    "c[4:4:4]"
   ]
  },
  {
   "cell_type": "code",
   "execution_count": 52,
   "id": "9939c761-28b8-401b-8bdc-1925de5190c3",
   "metadata": {},
   "outputs": [
    {
     "data": {
      "text/plain": [
       "['AP']"
      ]
     },
     "execution_count": 52,
     "metadata": {},
     "output_type": "execute_result"
    }
   ],
   "source": [
    "c[-1:3:-4]"
   ]
  },
  {
   "cell_type": "markdown",
   "id": "24c1a5f3-67c5-406c-8ff9-a141e0477c82",
   "metadata": {},
   "source": [
    "### list methods"
   ]
  },
  {
   "cell_type": "markdown",
   "id": "8eb4a3e7-f3a3-41f6-aef5-baec5fb75fbc",
   "metadata": {},
   "source": [
    "### append\n",
    "### insert\n",
    "### extend\n",
    "### pop\n",
    "### remove\n",
    "### clear\n",
    "### count"
   ]
  },
  {
   "cell_type": "code",
   "execution_count": 56,
   "id": "d28e9f2c-b92d-49d7-8ee0-4b7a9d0b997f",
   "metadata": {},
   "outputs": [
    {
     "data": {
      "text/plain": [
       "['hello', 485, True, False, 'AP']"
      ]
     },
     "execution_count": 56,
     "metadata": {},
     "output_type": "execute_result"
    }
   ],
   "source": [
    "c"
   ]
  },
  {
   "cell_type": "code",
   "execution_count": 58,
   "id": "280fa5f7-c186-47f4-88b3-1ac3d3a4dde6",
   "metadata": {},
   "outputs": [
    {
     "data": {
      "text/plain": [
       "5"
      ]
     },
     "execution_count": 58,
     "metadata": {},
     "output_type": "execute_result"
    }
   ],
   "source": [
    "len(c)"
   ]
  },
  {
   "cell_type": "code",
   "execution_count": 131,
   "id": "a821e230-81dc-4309-8d10-f33c7d5f07b3",
   "metadata": {},
   "outputs": [],
   "source": [
    "c.append(\"vikky\") # will add the value in list at last "
   ]
  },
  {
   "cell_type": "code",
   "execution_count": 81,
   "id": "2c655cf1-2b49-4141-b521-a4eb52a1da65",
   "metadata": {},
   "outputs": [
    {
     "data": {
      "text/plain": [
       "['hello',\n",
       " 485,\n",
       " True,\n",
       " False,\n",
       " 'AP',\n",
       " 'vikas',\n",
       " 'vikas',\n",
       " 'nutha',\n",
       " 'vikky',\n",
       " 'vikky',\n",
       " 'vikky']"
      ]
     },
     "execution_count": 81,
     "metadata": {},
     "output_type": "execute_result"
    }
   ],
   "source": [
    "c"
   ]
  },
  {
   "cell_type": "code",
   "execution_count": 83,
   "id": "697ebbbf-5690-43e1-83f4-68be85d054cc",
   "metadata": {},
   "outputs": [],
   "source": [
    "c.insert(1,85) # will add the list value which you have given "
   ]
  },
  {
   "cell_type": "code",
   "execution_count": 85,
   "id": "7631fb5c-83f9-4a71-a0ad-a54dd2718c51",
   "metadata": {},
   "outputs": [
    {
     "data": {
      "text/plain": [
       "['hello',\n",
       " 85,\n",
       " 485,\n",
       " True,\n",
       " False,\n",
       " 'AP',\n",
       " 'vikas',\n",
       " 'vikas',\n",
       " 'nutha',\n",
       " 'vikky',\n",
       " 'vikky',\n",
       " 'vikky']"
      ]
     },
     "execution_count": 85,
     "metadata": {},
     "output_type": "execute_result"
    }
   ],
   "source": [
    "c"
   ]
  },
  {
   "cell_type": "code",
   "execution_count": 137,
   "id": "94a77db5-af1d-40af-a8ca-f3b35d635711",
   "metadata": {},
   "outputs": [],
   "source": [
    "c.remove(\"vikky\") # will remove the value in list"
   ]
  },
  {
   "cell_type": "code",
   "execution_count": 93,
   "id": "7621d774-1b15-4702-83db-17adf82b7c91",
   "metadata": {},
   "outputs": [
    {
     "data": {
      "text/plain": [
       "['hello', 85, 485, True, False, 'AP', 'nutha', 'vikky', 'vikky']"
      ]
     },
     "execution_count": 93,
     "metadata": {},
     "output_type": "execute_result"
    }
   ],
   "source": [
    "c"
   ]
  },
  {
   "cell_type": "code",
   "execution_count": 95,
   "id": "56b56e64-231f-4412-b091-1831f157553e",
   "metadata": {},
   "outputs": [
    {
     "data": {
      "text/plain": [
       "'vikky'"
      ]
     },
     "execution_count": 95,
     "metadata": {},
     "output_type": "execute_result"
    }
   ],
   "source": [
    "c.pop # will remove the last inserted value"
   ]
  },
  {
   "cell_type": "code",
   "execution_count": 97,
   "id": "1c6feee8-0084-4761-826d-fcccfefb337e",
   "metadata": {},
   "outputs": [
    {
     "data": {
      "text/plain": [
       "['hello', 85, 485, True, False, 'AP', 'nutha', 'vikky']"
      ]
     },
     "execution_count": 97,
     "metadata": {},
     "output_type": "execute_result"
    }
   ],
   "source": [
    "c"
   ]
  },
  {
   "cell_type": "code",
   "execution_count": 99,
   "id": "748eca64-1c4f-48f6-acf1-ec00187b02b7",
   "metadata": {},
   "outputs": [
    {
     "data": {
      "text/plain": [
       "85"
      ]
     },
     "execution_count": 99,
     "metadata": {},
     "output_type": "execute_result"
    }
   ],
   "source": [
    "c.pop(1)"
   ]
  },
  {
   "cell_type": "code",
   "execution_count": 101,
   "id": "aac557aa-4e07-4b75-8434-c94b7baca306",
   "metadata": {},
   "outputs": [
    {
     "data": {
      "text/plain": [
       "['hello', 485, True, False, 'AP', 'nutha', 'vikky']"
      ]
     },
     "execution_count": 101,
     "metadata": {},
     "output_type": "execute_result"
    }
   ],
   "source": [
    "c"
   ]
  },
  {
   "cell_type": "code",
   "execution_count": 105,
   "id": "975c2257-a72a-4965-9788-df08dc54f8dd",
   "metadata": {},
   "outputs": [
    {
     "data": {
      "text/plain": [
       "1"
      ]
     },
     "execution_count": 105,
     "metadata": {},
     "output_type": "execute_result"
    }
   ],
   "source": [
    "c.count(485) #  it will count the value of occurance"
   ]
  },
  {
   "cell_type": "code",
   "execution_count": 123,
   "id": "b6372944-b866-4e1e-bc0b-2f0c46e8283e",
   "metadata": {},
   "outputs": [],
   "source": [
    "c.clear() # will clear the list data"
   ]
  },
  {
   "cell_type": "code",
   "execution_count": 113,
   "id": "dc6e7009-b23a-4d5a-9257-8bb11d503a68",
   "metadata": {},
   "outputs": [
    {
     "data": {
      "text/plain": [
       "[]"
      ]
     },
     "execution_count": 113,
     "metadata": {},
     "output_type": "execute_result"
    }
   ],
   "source": [
    "c"
   ]
  },
  {
   "cell_type": "code",
   "execution_count": 115,
   "id": "7a72ae23-1d01-4fbe-9a71-af3f7de63f14",
   "metadata": {},
   "outputs": [
    {
     "data": {
      "text/plain": [
       "[1, 2, 3, 4, 5, 6, 9, 8, 7]"
      ]
     },
     "execution_count": 115,
     "metadata": {},
     "output_type": "execute_result"
    }
   ],
   "source": [
    "d=[1,2,3,4,5,6,9,8,7,]\n",
    "d"
   ]
  },
  {
   "cell_type": "code",
   "execution_count": 129,
   "id": "44ef3929-86a6-42f7-8503-2c8044d3f45e",
   "metadata": {},
   "outputs": [],
   "source": [
    "d.clear() # will clear the list"
   ]
  },
  {
   "cell_type": "code",
   "execution_count": 139,
   "id": "dc1ce8dd-b2da-446f-959e-7984c3e142de",
   "metadata": {},
   "outputs": [
    {
     "data": {
      "text/plain": [
       "[]"
      ]
     },
     "execution_count": 139,
     "metadata": {},
     "output_type": "execute_result"
    }
   ],
   "source": [
    "d"
   ]
  },
  {
   "cell_type": "code",
   "execution_count": 143,
   "id": "8f74af9d-0320-4811-8a7b-057a00a0d4c2",
   "metadata": {},
   "outputs": [],
   "source": [
    "d.extend([100,300,\"vikas\"])"
   ]
  },
  {
   "cell_type": "code",
   "execution_count": 145,
   "id": "43477d79-850c-4dfa-9265-8f7aa10a681e",
   "metadata": {},
   "outputs": [
    {
     "data": {
      "text/plain": [
       "[100, 300, 'vikas']"
      ]
     },
     "execution_count": 145,
     "metadata": {},
     "output_type": "execute_result"
    }
   ],
   "source": [
    "d"
   ]
  },
  {
   "cell_type": "code",
   "execution_count": 157,
   "id": "8366f0e1-5221-4ff6-ba5e-f3df41a6afc7",
   "metadata": {},
   "outputs": [],
   "source": [
    "c = [257,527,725]"
   ]
  },
  {
   "cell_type": "code",
   "execution_count": 159,
   "id": "5be375a7-578c-450e-b8e4-11ea2847465a",
   "metadata": {},
   "outputs": [
    {
     "data": {
      "text/plain": [
       "[257, 527, 725]"
      ]
     },
     "execution_count": 159,
     "metadata": {},
     "output_type": "execute_result"
    }
   ],
   "source": [
    "c"
   ]
  },
  {
   "cell_type": "code",
   "execution_count": 161,
   "id": "e4a50ff1-f528-4fc6-af81-25d583038ecf",
   "metadata": {},
   "outputs": [],
   "source": [
    "d.extend(c)"
   ]
  },
  {
   "cell_type": "code",
   "execution_count": 163,
   "id": "0647bc71-5964-4e10-865e-1b9ad41e8085",
   "metadata": {},
   "outputs": [
    {
     "data": {
      "text/plain": [
       "[100, 300, 'vikas', 257, 527, 725]"
      ]
     },
     "execution_count": 163,
     "metadata": {},
     "output_type": "execute_result"
    }
   ],
   "source": [
    "d"
   ]
  },
  {
   "cell_type": "code",
   "execution_count": null,
   "id": "11c7684b-da38-4097-8333-7682322afcb1",
   "metadata": {},
   "outputs": [],
   "source": []
  }
 ],
 "metadata": {
  "kernelspec": {
   "display_name": "Python [conda env:base] *",
   "language": "python",
   "name": "conda-base-py"
  },
  "language_info": {
   "codemirror_mode": {
    "name": "ipython",
    "version": 3
   },
   "file_extension": ".py",
   "mimetype": "text/x-python",
   "name": "python",
   "nbconvert_exporter": "python",
   "pygments_lexer": "ipython3",
   "version": "3.12.7"
  }
 },
 "nbformat": 4,
 "nbformat_minor": 5
}
