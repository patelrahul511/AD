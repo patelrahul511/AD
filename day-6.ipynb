{
 "cells": [
  {
   "cell_type": "raw",
   "id": "0e8dc1a1-dd18-4241-b296-bc71eb449ad8",
   "metadata": {},
   "source": [
    "if condition1:\n",
    "    task1 block of code\n",
    "elif condition2:\n",
    "    task2 block of code\n",
    "elif condition3:\n",
    "    task3 block of code\n",
    "else:\n",
    "    task4 block of code"
   ]
  },
  {
   "cell_type": "code",
   "execution_count": 1,
   "id": "15c60e3f-2011-481e-ae3a-836e80707f87",
   "metadata": {},
   "outputs": [
    {
     "name": "stdout",
     "output_type": "stream",
     "text": [
      "Odd\n"
     ]
    }
   ],
   "source": [
    "x = 15\n",
    "if x % 2 == 0:\n",
    "    print(\"Even\")\n",
    "else:\n",
    "    print(\"Odd\")"
   ]
  },
  {
   "cell_type": "code",
   "execution_count": 9,
   "id": "87975df7-dc32-4df8-a70a-d682c137bd9c",
   "metadata": {},
   "outputs": [
    {
     "data": {
      "text/plain": [
       "False"
      ]
     },
     "execution_count": 9,
     "metadata": {},
     "output_type": "execute_result"
    }
   ],
   "source": [
    "15%2==0"
   ]
  },
  {
   "cell_type": "code",
   "execution_count": 11,
   "id": "bcc463ff-8da2-483e-84a0-22aa57222e6e",
   "metadata": {},
   "outputs": [
    {
     "data": {
      "text/plain": [
       "'India'"
      ]
     },
     "execution_count": 11,
     "metadata": {},
     "output_type": "execute_result"
    }
   ],
   "source": [
    "y = \"India\"\n",
    "y"
   ]
  },
  {
   "cell_type": "code",
   "execution_count": 17,
   "id": "be65653f-bad8-4973-bcc1-b49cd4eb1b47",
   "metadata": {},
   "outputs": [
    {
     "data": {
      "text/plain": [
       "True"
      ]
     },
     "execution_count": 17,
     "metadata": {},
     "output_type": "execute_result"
    }
   ],
   "source": [
    "y.isalpha() # it will say that given value is alpha or not"
   ]
  },
  {
   "cell_type": "code",
   "execution_count": 19,
   "id": "6f51a0cc-683a-4944-988d-232657c9a317",
   "metadata": {},
   "outputs": [],
   "source": [
    "name = \"vikas 2004\""
   ]
  },
  {
   "cell_type": "code",
   "execution_count": 23,
   "id": "3550cdb6-81c5-40eb-81ac-512f22c6021b",
   "metadata": {},
   "outputs": [
    {
     "name": "stdout",
     "output_type": "stream",
     "text": [
      "Name should not contain digits and symbols\n"
     ]
    }
   ],
   "source": [
    "if name.isalpha()==True:    # name should not contain any digits \n",
    "    print(\"Accept\")\n",
    "else:\n",
    "    print(\"Name should not contain digits and symbols\")"
   ]
  },
  {
   "cell_type": "code",
   "execution_count": 33,
   "id": "adb6e958-76ee-4d06-bc6d-9714c0d9a8c5",
   "metadata": {},
   "outputs": [],
   "source": [
    "name = \"vikas\""
   ]
  },
  {
   "cell_type": "code",
   "execution_count": 35,
   "id": "891caf36-b7a4-485c-a8ca-6334917b9445",
   "metadata": {},
   "outputs": [
    {
     "name": "stdout",
     "output_type": "stream",
     "text": [
      "Accept\n"
     ]
    }
   ],
   "source": [
    "if name.isalpha()==True:    # name should contain only name \n",
    "    print(\"Accept\")\n",
    "else:\n",
    "    print(\"Name should not contain digits and symbols\")"
   ]
  },
  {
   "cell_type": "code",
   "execution_count": 40,
   "id": "3360d046-7ba5-4b0a-ab3a-4dd0f619c5ff",
   "metadata": {},
   "outputs": [
    {
     "data": {
      "text/plain": [
       "True"
      ]
     },
     "execution_count": 40,
     "metadata": {},
     "output_type": "execute_result"
    }
   ],
   "source": [
    "name.isalpha()"
   ]
  },
  {
   "cell_type": "code",
   "execution_count": 94,
   "id": "e521834e-6ac9-4092-81d1-14de4979f21a",
   "metadata": {},
   "outputs": [
    {
     "data": {
      "text/plain": [
       "'vikas'"
      ]
     },
     "execution_count": 94,
     "metadata": {},
     "output_type": "execute_result"
    }
   ],
   "source": [
    "name.lower()"
   ]
  },
  {
   "cell_type": "code",
   "execution_count": 98,
   "id": "84a4d596-8e2a-4f78-bfc2-f920e68f868d",
   "metadata": {},
   "outputs": [
    {
     "data": {
      "text/plain": [
       "'VIKAS'"
      ]
     },
     "execution_count": 98,
     "metadata": {},
     "output_type": "execute_result"
    }
   ],
   "source": [
    "name.upper()"
   ]
  },
  {
   "cell_type": "code",
   "execution_count": 100,
   "id": "42460a7f-de01-4443-a732-a99942aa2a58",
   "metadata": {},
   "outputs": [
    {
     "data": {
      "text/plain": [
       "'TElangana'"
      ]
     },
     "execution_count": 100,
     "metadata": {},
     "output_type": "execute_result"
    }
   ],
   "source": [
    "x = \"TElangana\"\n",
    "x"
   ]
  },
  {
   "cell_type": "code",
   "execution_count": 108,
   "id": "2d1870ac-e734-407a-846b-727e4be082d5",
   "metadata": {},
   "outputs": [
    {
     "ename": "SyntaxError",
     "evalue": "cannot assign to subscript here. Maybe you meant '==' instead of '='? (2999258977.py, line 2)",
     "output_type": "error",
     "traceback": [
      "\u001b[1;36m  Cell \u001b[1;32mIn[108], line 2\u001b[1;36m\u001b[0m\n\u001b[1;33m    if z[0]='m':\u001b[0m\n\u001b[1;37m       ^\u001b[0m\n\u001b[1;31mSyntaxError\u001b[0m\u001b[1;31m:\u001b[0m cannot assign to subscript here. Maybe you meant '==' instead of '='?\n"
     ]
    }
   ],
   "source": [
    "z = \"Mumbai\"\n",
    "if z[0]='m':\n",
    "    print(\"Yes\")\n",
    "else:\n",
    "    print(\"No\")\n"
   ]
  },
  {
   "cell_type": "code",
   "execution_count": null,
   "id": "00631c8e-d9c3-411b-a60d-e53db8da4497",
   "metadata": {},
   "outputs": [],
   "source": []
  }
 ],
 "metadata": {
  "kernelspec": {
   "display_name": "Python [conda env:base] *",
   "language": "python",
   "name": "conda-base-py"
  },
  "language_info": {
   "codemirror_mode": {
    "name": "ipython",
    "version": 3
   },
   "file_extension": ".py",
   "mimetype": "text/x-python",
   "name": "python",
   "nbconvert_exporter": "python",
   "pygments_lexer": "ipython3",
   "version": "3.12.7"
  }
 },
 "nbformat": 4,
 "nbformat_minor": 5
}
