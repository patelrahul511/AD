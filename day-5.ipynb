{
 "cells": [
  {
   "cell_type": "markdown",
   "id": "7bc0fdb8-1e89-4094-977d-fb238fb246e3",
   "metadata": {},
   "source": [
    "### Dict"
   ]
  },
  {
   "cell_type": "code",
   "execution_count": 59,
   "id": "4d80f391-9168-4d07-b476-761cccef4ea9",
   "metadata": {},
   "outputs": [
    {
     "data": {
      "text/plain": [
       "{'a': 4, 'b': 7, 'c': 2}"
      ]
     },
     "execution_count": 59,
     "metadata": {},
     "output_type": "execute_result"
    }
   ],
   "source": [
    "d = {'a': 4, 'b':7, 'c':2}\n",
    "d"
   ]
  },
  {
   "cell_type": "code",
   "execution_count": 3,
   "id": "f170b899-47fa-47a8-82fd-00add4be40e6",
   "metadata": {},
   "outputs": [
    {
     "data": {
      "text/plain": [
       "dict"
      ]
     },
     "execution_count": 3,
     "metadata": {},
     "output_type": "execute_result"
    }
   ],
   "source": [
    "type(d)"
   ]
  },
  {
   "cell_type": "code",
   "execution_count": 13,
   "id": "37963ce3-6868-4a94-9351-e4091a2470e3",
   "metadata": {},
   "outputs": [
    {
     "data": {
      "text/plain": [
       "4"
      ]
     },
     "execution_count": 13,
     "metadata": {},
     "output_type": "execute_result"
    }
   ],
   "source": [
    "d['a']"
   ]
  },
  {
   "cell_type": "code",
   "execution_count": 65,
   "id": "98aa5ae7-efec-43ba-94ca-4f8c535341b5",
   "metadata": {},
   "outputs": [
    {
     "data": {
      "text/plain": [
       "7"
      ]
     },
     "execution_count": 65,
     "metadata": {},
     "output_type": "execute_result"
    }
   ],
   "source": [
    "d.get('b')"
   ]
  },
  {
   "cell_type": "code",
   "execution_count": 33,
   "id": "0d1494bd-c5b2-4fbe-bcf2-930fc3cb178e",
   "metadata": {},
   "outputs": [
    {
     "data": {
      "text/plain": [
       "{101: 4, 102: 5, 103: 2}"
      ]
     },
     "execution_count": 33,
     "metadata": {},
     "output_type": "execute_result"
    }
   ],
   "source": [
    "s = { 101:4, 102:5, 103:2} # new Dict\n",
    "s"
   ]
  },
  {
   "cell_type": "code",
   "execution_count": 35,
   "id": "a0ee61d8-832b-435d-bfd8-afaddb5320ad",
   "metadata": {},
   "outputs": [],
   "source": [
    "s.update({104:7}) # will the another element "
   ]
  },
  {
   "cell_type": "code",
   "execution_count": 38,
   "id": "ee5fb1c3-b2ff-41dc-945b-38e31e4cf6dd",
   "metadata": {},
   "outputs": [
    {
     "data": {
      "text/plain": [
       "{101: 4, 102: 5, 103: 2, 104: 7}"
      ]
     },
     "execution_count": 38,
     "metadata": {},
     "output_type": "execute_result"
    }
   ],
   "source": [
    "s"
   ]
  },
  {
   "cell_type": "code",
   "execution_count": 68,
   "id": "b398ecc0-efa2-465d-ada4-0db0188b4e01",
   "metadata": {},
   "outputs": [],
   "source": [
    "s[101]=752"
   ]
  },
  {
   "cell_type": "code",
   "execution_count": 70,
   "id": "ec4ff592-69a0-429d-85de-17dbb68e9b91",
   "metadata": {},
   "outputs": [
    {
     "data": {
      "text/plain": [
       "{102: 5, 103: 257, 104: 7, 101: 752}"
      ]
     },
     "execution_count": 70,
     "metadata": {},
     "output_type": "execute_result"
    }
   ],
   "source": [
    "s"
   ]
  },
  {
   "cell_type": "code",
   "execution_count": 43,
   "id": "0e0a9388-1c76-49c2-a49d-cf02b5877e83",
   "metadata": {},
   "outputs": [],
   "source": [
    "del s[101] # will delete the element which u want to delete"
   ]
  },
  {
   "cell_type": "code",
   "execution_count": 45,
   "id": "d0869f53-5c5f-4cd4-92d3-672b5e839dfd",
   "metadata": {},
   "outputs": [
    {
     "data": {
      "text/plain": [
       "{102: 5, 103: 2, 104: 7}"
      ]
     },
     "execution_count": 45,
     "metadata": {},
     "output_type": "execute_result"
    }
   ],
   "source": [
    "s"
   ]
  },
  {
   "cell_type": "code",
   "execution_count": 51,
   "id": "8dd915d5-1a1c-42a7-bd67-38c39d5a8374",
   "metadata": {},
   "outputs": [
    {
     "ename": "TypeError",
     "evalue": "cannot convert dictionary update sequence element #0 to a sequence",
     "output_type": "error",
     "traceback": [
      "\u001b[1;31m---------------------------------------------------------------------------\u001b[0m",
      "\u001b[1;31mTypeError\u001b[0m                                 Traceback (most recent call last)",
      "Cell \u001b[1;32mIn[51], line 1\u001b[0m\n\u001b[1;32m----> 1\u001b[0m s\u001b[38;5;241m.\u001b[39mupdate({\u001b[38;5;241m105\u001b[39m})\n",
      "\u001b[1;31mTypeError\u001b[0m: cannot convert dictionary update sequence element #0 to a sequence"
     ]
    }
   ],
   "source": [
    "s.update({105}) # we cannot add the single value"
   ]
  },
  {
   "cell_type": "code",
   "execution_count": 53,
   "id": "9b682da6-c2aa-46d8-b28a-8d005cc9c103",
   "metadata": {},
   "outputs": [],
   "source": [
    "s.update({103: 257}) # will update the value which you want"
   ]
  },
  {
   "cell_type": "code",
   "execution_count": 55,
   "id": "508e68ee-b1eb-4484-affa-fd8fdd6fcb43",
   "metadata": {},
   "outputs": [
    {
     "data": {
      "text/plain": [
       "{102: 5, 103: 257, 104: 7}"
      ]
     },
     "execution_count": 55,
     "metadata": {},
     "output_type": "execute_result"
    }
   ],
   "source": [
    "s"
   ]
  },
  {
   "cell_type": "code",
   "execution_count": 74,
   "id": "ea3afc08-736f-4373-8cdb-84d8f8ffe6fb",
   "metadata": {},
   "outputs": [],
   "source": [
    "s[104] = [275,527,52527] # here u can give the list to the one element in the dictionary"
   ]
  },
  {
   "cell_type": "code",
   "execution_count": 76,
   "id": "1c28b9a4-f9ce-4083-aa93-b4884f486e1d",
   "metadata": {},
   "outputs": [
    {
     "data": {
      "text/plain": [
       "{102: 5, 103: 257, 104: [275, 527, 52527], 101: 752}"
      ]
     },
     "execution_count": 76,
     "metadata": {},
     "output_type": "execute_result"
    }
   ],
   "source": [
    "s"
   ]
  },
  {
   "cell_type": "code",
   "execution_count": 80,
   "id": "22a4aedd-44f9-4261-b79a-613730a13018",
   "metadata": {},
   "outputs": [
    {
     "data": {
      "text/plain": [
       "[275, 527, 52527]"
      ]
     },
     "execution_count": 80,
     "metadata": {},
     "output_type": "execute_result"
    }
   ],
   "source": [
    "s[104]"
   ]
  },
  {
   "cell_type": "code",
   "execution_count": 84,
   "id": "83a3c22b-131a-4689-9b4a-251980b1aeed",
   "metadata": {},
   "outputs": [
    {
     "data": {
      "text/plain": [
       "52527"
      ]
     },
     "execution_count": 84,
     "metadata": {},
     "output_type": "execute_result"
    }
   ],
   "source": [
    "s[104][2] # here it will show the certain element in the given list or 104"
   ]
  },
  {
   "cell_type": "code",
   "execution_count": 88,
   "id": "c85a862a-35aa-41c4-a5d2-9fcaf528adf9",
   "metadata": {},
   "outputs": [
    {
     "data": {
      "text/plain": [
       "[275, 527, 52527]"
      ]
     },
     "execution_count": 88,
     "metadata": {},
     "output_type": "execute_result"
    }
   ],
   "source": [
    "s[104][0:3] # it will show the elements present in b/w 0 to 3"
   ]
  },
  {
   "cell_type": "code",
   "execution_count": 90,
   "id": "15b00641-12ac-4f2c-81b6-ecc4b47ec688",
   "metadata": {},
   "outputs": [],
   "source": [
    "s.update({103:(50,40,20,70)})"
   ]
  },
  {
   "cell_type": "code",
   "execution_count": 92,
   "id": "b6f59085-dba4-4839-8245-1742fb5c3219",
   "metadata": {},
   "outputs": [
    {
     "data": {
      "text/plain": [
       "{102: 5, 103: (50, 40, 20, 70), 104: [275, 527, 52527], 101: 752}"
      ]
     },
     "execution_count": 92,
     "metadata": {},
     "output_type": "execute_result"
    }
   ],
   "source": [
    "s"
   ]
  },
  {
   "cell_type": "code",
   "execution_count": 94,
   "id": "2b0b8c8b-b271-4ae9-8d04-d16a556093e8",
   "metadata": {},
   "outputs": [
    {
     "data": {
      "text/plain": [
       "(50, 40, 20, 70)"
      ]
     },
     "execution_count": 94,
     "metadata": {},
     "output_type": "execute_result"
    }
   ],
   "source": [
    "s[103]"
   ]
  },
  {
   "cell_type": "code",
   "execution_count": 96,
   "id": "aa0553f5-fd0d-4c1c-9166-50949f928a52",
   "metadata": {},
   "outputs": [
    {
     "data": {
      "text/plain": [
       "dict"
      ]
     },
     "execution_count": 96,
     "metadata": {},
     "output_type": "execute_result"
    }
   ],
   "source": [
    "type(s)"
   ]
  },
  {
   "cell_type": "code",
   "execution_count": 102,
   "id": "9402f770-e84d-4357-87f0-6eb9c1c57bdd",
   "metadata": {},
   "outputs": [
    {
     "data": {
      "text/plain": [
       "list"
      ]
     },
     "execution_count": 102,
     "metadata": {},
     "output_type": "execute_result"
    }
   ],
   "source": [
    "type(s[104])"
   ]
  },
  {
   "cell_type": "code",
   "execution_count": 104,
   "id": "16e3e829-9706-4ea4-b327-f61ccf1e7f12",
   "metadata": {},
   "outputs": [
    {
     "data": {
      "text/plain": [
       "tuple"
      ]
     },
     "execution_count": 104,
     "metadata": {},
     "output_type": "execute_result"
    }
   ],
   "source": [
    "type(s[103])"
   ]
  },
  {
   "cell_type": "code",
   "execution_count": 108,
   "id": "a1444688-26b6-4aed-ba0d-1e1c5b9e638b",
   "metadata": {},
   "outputs": [
    {
     "data": {
      "text/plain": [
       "int"
      ]
     },
     "execution_count": 108,
     "metadata": {},
     "output_type": "execute_result"
    }
   ],
   "source": [
    "type(s[102])"
   ]
  },
  {
   "cell_type": "code",
   "execution_count": 122,
   "id": "23392b88-77d1-45aa-a0bf-da7b142780fe",
   "metadata": {},
   "outputs": [
    {
     "ename": "AttributeError",
     "evalue": "'tuple' object has no attribute 'append'",
     "output_type": "error",
     "traceback": [
      "\u001b[1;31m---------------------------------------------------------------------------\u001b[0m",
      "\u001b[1;31mAttributeError\u001b[0m                            Traceback (most recent call last)",
      "Cell \u001b[1;32mIn[122], line 1\u001b[0m\n\u001b[1;32m----> 1\u001b[0m s[\u001b[38;5;241m103\u001b[39m]\u001b[38;5;241m.\u001b[39mappend(\u001b[38;5;241m100\u001b[39m)\n",
      "\u001b[1;31mAttributeError\u001b[0m: 'tuple' object has no attribute 'append'"
     ]
    }
   ],
   "source": [
    "s[103].append(100) # it will not add a value because it is a tuple"
   ]
  },
  {
   "cell_type": "code",
   "execution_count": 118,
   "id": "d85ba018-368c-42ff-a3d9-8ae757353800",
   "metadata": {},
   "outputs": [],
   "source": [
    "s[104].append(4000) # will add a value because it is list"
   ]
  },
  {
   "cell_type": "code",
   "execution_count": 120,
   "id": "29f6ec14-219d-434f-bcf7-d2a83ead268c",
   "metadata": {},
   "outputs": [
    {
     "data": {
      "text/plain": [
       "{102: 5, 103: (50, 40, 20, 70), 104: [275, 527, 52527, 4000], 101: 752}"
      ]
     },
     "execution_count": 120,
     "metadata": {},
     "output_type": "execute_result"
    }
   ],
   "source": [
    "s"
   ]
  },
  {
   "cell_type": "code",
   "execution_count": 132,
   "id": "87debaa2-22a3-4131-82e0-6d18e48d835a",
   "metadata": {},
   "outputs": [],
   "source": [
    "s[101] = {50:[7,8,9,4],'apple':(50,20,79,[9089,63,25])} # will the add the elements in the 101 value"
   ]
  },
  {
   "cell_type": "code",
   "execution_count": 137,
   "id": "2753d3cd-e6d2-4c68-9270-b7b1ad754ee3",
   "metadata": {},
   "outputs": [
    {
     "data": {
      "text/plain": [
       "{102: 5,\n",
       " 103: (50, 40, 20, 70),\n",
       " 104: [275, 527, 52527, 4000],\n",
       " 101: {50: [7, 8, 9, 4], 'apple': (50, 20, 79, [9089, 63, 25])}}"
      ]
     },
     "execution_count": 137,
     "metadata": {},
     "output_type": "execute_result"
    }
   ],
   "source": [
    "s"
   ]
  },
  {
   "cell_type": "code",
   "execution_count": 145,
   "id": "dc30de07-7137-4eb1-96b6-350df0e9a8d2",
   "metadata": {},
   "outputs": [],
   "source": [
    "s[102]={'a':{23,65,52},'b':(89589,852,56263),'c':['k',{'l':{11,22},'M':(78,852)},'N']} # will the add the elements in the 102 value"
   ]
  },
  {
   "cell_type": "code",
   "execution_count": 147,
   "id": "d736e4f4-3070-44a3-9009-552a35698483",
   "metadata": {},
   "outputs": [
    {
     "data": {
      "text/plain": [
       "{102: {'a': {23, 52, 65},\n",
       "  'b': (89589, 852, 56263),\n",
       "  'c': ['k', {'l': {11, 22}, 'M': (78, 852)}, 'N']},\n",
       " 103: (50, 40, 20, 70),\n",
       " 104: [275, 527, 52527, 4000],\n",
       " 101: {50: [7, 8, 9, 4], 'apple': (50, 20, 79, [9089, 63, 25])}}"
      ]
     },
     "execution_count": 147,
     "metadata": {},
     "output_type": "execute_result"
    }
   ],
   "source": [
    "s"
   ]
  },
  {
   "cell_type": "code",
   "execution_count": 149,
   "id": "4c1e238b-8f9b-4307-b598-fd059371deb7",
   "metadata": {},
   "outputs": [
    {
     "data": {
      "text/plain": [
       "dict"
      ]
     },
     "execution_count": 149,
     "metadata": {},
     "output_type": "execute_result"
    }
   ],
   "source": [
    "type(s[101])"
   ]
  },
  {
   "cell_type": "code",
   "execution_count": 151,
   "id": "2e6a46ce-3dc5-4414-bfab-2747e827c27b",
   "metadata": {},
   "outputs": [
    {
     "data": {
      "text/plain": [
       "dict"
      ]
     },
     "execution_count": 151,
     "metadata": {},
     "output_type": "execute_result"
    }
   ],
   "source": [
    "type(s[102])"
   ]
  },
  {
   "cell_type": "code",
   "execution_count": 169,
   "id": "a9a9959e-e5b0-41f2-8c89-01ca88c84add",
   "metadata": {},
   "outputs": [
    {
     "data": {
      "text/plain": [
       "9089"
      ]
     },
     "execution_count": 169,
     "metadata": {},
     "output_type": "execute_result"
    }
   ],
   "source": [
    "s[101]['apple'][3][0] # to the number in 101 of 9089"
   ]
  },
  {
   "cell_type": "code",
   "execution_count": 171,
   "id": "13366cf2-9ce8-4e36-bb42-1c8e7c37a079",
   "metadata": {},
   "outputs": [
    {
     "data": {
      "text/plain": [
       "9089"
      ]
     },
     "execution_count": 171,
     "metadata": {},
     "output_type": "execute_result"
    }
   ],
   "source": [
    "# or\n",
    "f = s[101]['apple'][3][0]\n",
    "f"
   ]
  },
  {
   "cell_type": "code",
   "execution_count": 175,
   "id": "e8aaf544-429d-41d3-b212-337bc681a42b",
   "metadata": {},
   "outputs": [
    {
     "data": {
      "text/plain": [
       "4000"
      ]
     },
     "execution_count": 175,
     "metadata": {},
     "output_type": "execute_result"
    }
   ],
   "source": [
    "s[104][3]"
   ]
  },
  {
   "cell_type": "code",
   "execution_count": null,
   "id": "2572db87-c457-4ad2-9340-3521fbae9071",
   "metadata": {},
   "outputs": [],
   "source": []
  }
 ],
 "metadata": {
  "kernelspec": {
   "display_name": "Python [conda env:base] *",
   "language": "python",
   "name": "conda-base-py"
  },
  "language_info": {
   "codemirror_mode": {
    "name": "ipython",
    "version": 3
   },
   "file_extension": ".py",
   "mimetype": "text/x-python",
   "name": "python",
   "nbconvert_exporter": "python",
   "pygments_lexer": "ipython3",
   "version": "3.12.7"
  }
 },
 "nbformat": 4,
 "nbformat_minor": 5
}
