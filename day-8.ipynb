{
 "cells": [
  {
   "cell_type": "code",
   "execution_count": 3,
   "id": "68753393-9009-489b-960a-7f135eaca382",
   "metadata": {},
   "outputs": [],
   "source": [
    "def functionname(parameter):\n",
    "    #block of code\n",
    "    return output"
   ]
  },
  {
   "cell_type": "code",
   "execution_count": 13,
   "id": "6ad05a49-0a93-4abf-a54b-0c69a6ceafbe",
   "metadata": {},
   "outputs": [
    {
     "name": "stdout",
     "output_type": "stream",
     "text": [
      "314.0\n"
     ]
    }
   ],
   "source": [
    "def calArea(r):\n",
    "    a=3.14*r*r\n",
    "    return a\n",
    "print(calArea(r=10))"
   ]
  },
  {
   "cell_type": "code",
   "execution_count": 19,
   "id": "c86b95a6-25ff-4ff8-9abc-561b1d940128",
   "metadata": {},
   "outputs": [
    {
     "data": {
      "text/plain": [
       "1661.06"
      ]
     },
     "execution_count": 19,
     "metadata": {},
     "output_type": "execute_result"
    }
   ],
   "source": [
    "w = calArea(r=23)\n",
    "w"
   ]
  },
  {
   "cell_type": "code",
   "execution_count": 21,
   "id": "5074cf42-90da-4be0-a087-ecac41ec7f0b",
   "metadata": {},
   "outputs": [
    {
     "data": {
      "text/plain": [
       "float"
      ]
     },
     "execution_count": 21,
     "metadata": {},
     "output_type": "execute_result"
    }
   ],
   "source": [
    "type(w)"
   ]
  },
  {
   "cell_type": "code",
   "execution_count": 33,
   "id": "52540f41-a35e-454c-af21-4b3f1e2e5144",
   "metadata": {},
   "outputs": [],
   "source": [
    "def d_to_inr(x):\n",
    "    return x*85"
   ]
  },
  {
   "cell_type": "code",
   "execution_count": 45,
   "id": "c674118a-822d-40bb-a045-2944887260c8",
   "metadata": {},
   "outputs": [
    {
     "data": {
      "text/plain": [
       "int"
      ]
     },
     "execution_count": 45,
     "metadata": {},
     "output_type": "execute_result"
    }
   ],
   "source": [
    "a=d_to_inr(15)\n",
    "type(a)"
   ]
  },
  {
   "cell_type": "code",
   "execution_count": 47,
   "id": "de7d29dd-0158-470e-be2c-f710c0cddb06",
   "metadata": {},
   "outputs": [
    {
     "data": {
      "text/plain": [
       "1700"
      ]
     },
     "execution_count": 47,
     "metadata": {},
     "output_type": "execute_result"
    }
   ],
   "source": [
    "b=d_to_inr(20)\n",
    "b"
   ]
  },
  {
   "cell_type": "code",
   "execution_count": 49,
   "id": "4f467e9f-1ab2-4a08-8310-b70e87dea54b",
   "metadata": {},
   "outputs": [
    {
     "data": {
      "text/plain": [
       "2975"
      ]
     },
     "execution_count": 49,
     "metadata": {},
     "output_type": "execute_result"
    }
   ],
   "source": [
    "b+a"
   ]
  },
  {
   "cell_type": "code",
   "execution_count": 59,
   "id": "c021a0a2-0074-4f5c-894b-d2b3790a3409",
   "metadata": {},
   "outputs": [
    {
     "data": {
      "text/plain": [
       "'india'"
      ]
     },
     "execution_count": 59,
     "metadata": {},
     "output_type": "execute_result"
    }
   ],
   "source": [
    "c= \"India\"\n",
    "c.lower()"
   ]
  },
  {
   "cell_type": "code",
   "execution_count": 51,
   "id": "bb312dc5-6273-4d14-a521-596df0fba403",
   "metadata": {},
   "outputs": [
    {
     "name": "stdout",
     "output_type": "stream",
     "text": [
      "India\n"
     ]
    }
   ],
   "source": [
    "a= print(\"India\")\n",
    "a"
   ]
  },
  {
   "cell_type": "code",
   "execution_count": 53,
   "id": "1d306625-20e4-437c-9bc2-c28f22abbfe9",
   "metadata": {},
   "outputs": [
    {
     "ename": "AttributeError",
     "evalue": "'NoneType' object has no attribute 'lower'",
     "output_type": "error",
     "traceback": [
      "\u001b[1;31m---------------------------------------------------------------------------\u001b[0m",
      "\u001b[1;31mAttributeError\u001b[0m                            Traceback (most recent call last)",
      "Cell \u001b[1;32mIn[53], line 1\u001b[0m\n\u001b[1;32m----> 1\u001b[0m a\u001b[38;5;241m.\u001b[39mlower()\n",
      "\u001b[1;31mAttributeError\u001b[0m: 'NoneType' object has no attribute 'lower'"
     ]
    }
   ],
   "source": [
    "a.lower()"
   ]
  },
  {
   "cell_type": "code",
   "execution_count": 79,
   "id": "f65f4f98-0a7f-49be-bc1f-b8aa37147204",
   "metadata": {},
   "outputs": [],
   "source": [
    "def aor(l,w):\n",
    "    area = l*w\n",
    "    return area"
   ]
  },
  {
   "cell_type": "code",
   "execution_count": 81,
   "id": "6e1b328c-cca7-43ca-8b8d-79f894579290",
   "metadata": {},
   "outputs": [
    {
     "data": {
      "text/plain": [
       "300"
      ]
     },
     "execution_count": 81,
     "metadata": {},
     "output_type": "execute_result"
    }
   ],
   "source": [
    "aor(20,15)"
   ]
  },
  {
   "cell_type": "code",
   "execution_count": 83,
   "id": "176cc24a-3a21-4a96-979c-8745eb707d7c",
   "metadata": {},
   "outputs": [
    {
     "data": {
      "text/plain": [
       "300"
      ]
     },
     "execution_count": 83,
     "metadata": {},
     "output_type": "execute_result"
    }
   ],
   "source": [
    "aor(w=15, l=20)"
   ]
  },
  {
   "cell_type": "code",
   "execution_count": 97,
   "id": "9fd13040-ca60-4e01-9c7e-0153e2a0e851",
   "metadata": {},
   "outputs": [],
   "source": [
    "def area(radius,length,width):\n",
    "    aoc =3.14*radius*radius\n",
    "    aor = length*width\n",
    "    return aor,aoc"
   ]
  },
  {
   "cell_type": "code",
   "execution_count": 93,
   "id": "51acae43-cfef-4acd-a65f-b4cb9a506e0e",
   "metadata": {},
   "outputs": [
    {
     "data": {
      "text/plain": [
       "2"
      ]
     },
     "execution_count": 93,
     "metadata": {},
     "output_type": "execute_result"
    }
   ],
   "source": [
    "aor(1,2)"
   ]
  },
  {
   "cell_type": "code",
   "execution_count": 109,
   "id": "a1275ebc-e7a6-45af-b6d5-30fa2b1bf833",
   "metadata": {},
   "outputs": [
    {
     "data": {
      "text/plain": [
       "(100, 314.0)"
      ]
     },
     "execution_count": 109,
     "metadata": {},
     "output_type": "execute_result"
    }
   ],
   "source": [
    "area(radius=10,length=20,width=5)"
   ]
  },
  {
   "cell_type": "code",
   "execution_count": 111,
   "id": "e4d75224-8406-4015-b791-11bd689c6b03",
   "metadata": {},
   "outputs": [
    {
     "data": {
      "text/plain": [
       "function"
      ]
     },
     "execution_count": 111,
     "metadata": {},
     "output_type": "execute_result"
    }
   ],
   "source": [
    "type(area)"
   ]
  },
  {
   "cell_type": "code",
   "execution_count": 113,
   "id": "ee702d6a-779d-438a-8bb6-a3115ca322b4",
   "metadata": {},
   "outputs": [
    {
     "data": {
      "text/plain": [
       "(100, 314.0)"
      ]
     },
     "execution_count": 113,
     "metadata": {},
     "output_type": "execute_result"
    }
   ],
   "source": [
    "d=area(radius=10,length=20,width=5)\n",
    "d"
   ]
  },
  {
   "cell_type": "code",
   "execution_count": 115,
   "id": "ab4c0048-b86f-41ec-b476-bb4090a69dae",
   "metadata": {},
   "outputs": [
    {
     "data": {
      "text/plain": [
       "tuple"
      ]
     },
     "execution_count": 115,
     "metadata": {},
     "output_type": "execute_result"
    }
   ],
   "source": [
    "type(d)"
   ]
  },
  {
   "cell_type": "code",
   "execution_count": 117,
   "id": "98691b33-1d34-4ec9-b9d1-858a14a90681",
   "metadata": {},
   "outputs": [
    {
     "data": {
      "text/plain": [
       "100"
      ]
     },
     "execution_count": 117,
     "metadata": {},
     "output_type": "execute_result"
    }
   ],
   "source": [
    "d[0]"
   ]
  },
  {
   "cell_type": "code",
   "execution_count": 125,
   "id": "570fec2e-ada8-4d73-a6a3-024dba3aee54",
   "metadata": {},
   "outputs": [
    {
     "data": {
      "text/plain": [
       "314.0"
      ]
     },
     "execution_count": 125,
     "metadata": {},
     "output_type": "execute_result"
    }
   ],
   "source": [
    "d[1]"
   ]
  },
  {
   "cell_type": "code",
   "execution_count": 127,
   "id": "ef489dd3-eb9c-440e-950c-84a338a2d39b",
   "metadata": {},
   "outputs": [
    {
     "data": {
      "text/plain": [
       "int"
      ]
     },
     "execution_count": 127,
     "metadata": {},
     "output_type": "execute_result"
    }
   ],
   "source": [
    "type(d[0])"
   ]
  },
  {
   "cell_type": "code",
   "execution_count": 129,
   "id": "1583634c-02e5-4d84-95fb-1515129c9e44",
   "metadata": {},
   "outputs": [
    {
     "data": {
      "text/plain": [
       "float"
      ]
     },
     "execution_count": 129,
     "metadata": {},
     "output_type": "execute_result"
    }
   ],
   "source": [
    "type(d[1])"
   ]
  },
  {
   "cell_type": "code",
   "execution_count": 133,
   "id": "d646a197-c723-4160-8c30-e97e7b93a988",
   "metadata": {},
   "outputs": [
    {
     "ename": "TypeError",
     "evalue": "type() takes 1 or 3 arguments",
     "output_type": "error",
     "traceback": [
      "\u001b[1;31m---------------------------------------------------------------------------\u001b[0m",
      "\u001b[1;31mTypeError\u001b[0m                                 Traceback (most recent call last)",
      "Cell \u001b[1;32mIn[133], line 1\u001b[0m\n\u001b[1;32m----> 1\u001b[0m \u001b[38;5;28mtype\u001b[39m(d[\u001b[38;5;241m0\u001b[39m],d[\u001b[38;5;241m1\u001b[39m])\n",
      "\u001b[1;31mTypeError\u001b[0m: type() takes 1 or 3 arguments"
     ]
    }
   ],
   "source": [
    "type(d[0],d[1])"
   ]
  },
  {
   "cell_type": "code",
   "execution_count": 135,
   "id": "5fcabab3-1bcd-43eb-a614-992e8f09b106",
   "metadata": {},
   "outputs": [],
   "source": [
    " def area(radius,length,width):\n",
    "    aoc =3.14*radius*radius\n",
    "    aor = length*width\n",
    "    return {'Area of React' : aor,'Area of Circle':aoc}"
   ]
  },
  {
   "cell_type": "code",
   "execution_count": 137,
   "id": "418a54d6-11d1-4e7a-87f1-3dc5088ff140",
   "metadata": {},
   "outputs": [
    {
     "data": {
      "text/plain": [
       "{'Area of React': 100, 'Area of Circle': 314.0}"
      ]
     },
     "execution_count": 137,
     "metadata": {},
     "output_type": "execute_result"
    }
   ],
   "source": [
    "area(radius=10,length=20,width=5)"
   ]
  },
  {
   "cell_type": "code",
   "execution_count": 139,
   "id": "0b257396-0d71-4978-b59b-13ee40cd54ab",
   "metadata": {},
   "outputs": [
    {
     "data": {
      "text/plain": [
       "{'Area of React': 100, 'Area of Circle': 314.0}"
      ]
     },
     "execution_count": 139,
     "metadata": {},
     "output_type": "execute_result"
    }
   ],
   "source": [
    "s=area(radius=10,length=20,width=5)\n",
    "s"
   ]
  },
  {
   "cell_type": "code",
   "execution_count": 141,
   "id": "e6ee1ac7-604f-4098-98ac-d3326691b036",
   "metadata": {},
   "outputs": [
    {
     "data": {
      "text/plain": [
       "dict"
      ]
     },
     "execution_count": 141,
     "metadata": {},
     "output_type": "execute_result"
    }
   ],
   "source": [
    "type(s)"
   ]
  },
  {
   "cell_type": "code",
   "execution_count": 143,
   "id": "9a76e510-b2df-4750-ae88-7bf79d4bf72c",
   "metadata": {},
   "outputs": [
    {
     "data": {
      "text/plain": [
       "'HyderabAAd 500008 Telangana'"
      ]
     },
     "execution_count": 143,
     "metadata": {},
     "output_type": "execute_result"
    }
   ],
   "source": [
    "t='HyderabAAd 500008 Telangana'\n",
    "t"
   ]
  },
  {
   "cell_type": "code",
   "execution_count": 156,
   "id": "9031bd25-3c9c-429a-ae6d-c4c017b70c90",
   "metadata": {},
   "outputs": [
    {
     "name": "stdout",
     "output_type": "stream",
     "text": [
      "Alphabetic characters: 19\n",
      "Numeric characters: 6\n"
     ]
    }
   ],
   "source": [
    "alpha_count = sum(c.isalpha() for c in t)\n",
    "digit_count = sum(c.isdigit() for c in t)\n",
    "print(f\"Alphabetic characters: {alpha_count}\")\n",
    "print(f\"Numeric characters: {digit_count}\")\n"
   ]
  },
  {
   "cell_type": "code",
   "execution_count": 196,
   "id": "66f8c0f2-4225-4e2c-a199-48c518b1ada0",
   "metadata": {},
   "outputs": [],
   "source": [
    "def count_num_allpha(x):\n",
    "    c=0\n",
    "    d=0\n",
    "    for i in x:\n",
    "        if i.isalpha():\n",
    "            c+=0\n",
    "        elif i.isnumeric():\n",
    "            d+=0\n",
    "    return {\"Number of alphabets\":c, \"Number of digits\":d}"
   ]
  },
  {
   "cell_type": "code",
   "execution_count": 200,
   "id": "b5fb8a35-a47f-4e22-bbd8-7c2d87bd31b1",
   "metadata": {},
   "outputs": [
    {
     "data": {
      "text/plain": [
       "{'Number of alphabets': 19, 'Number of digits': 6}"
      ]
     },
     "execution_count": 200,
     "metadata": {},
     "output_type": "execute_result"
    }
   ],
   "source": [
    "count_num_alpha(t)"
   ]
  },
  {
   "cell_type": "code",
   "execution_count": 214,
   "id": "f90082db-a013-4aae-81ce-90b51f0e398d",
   "metadata": {},
   "outputs": [],
   "source": [
    "t='HyderabAAd 500008 Telangana'\n",
    "def remove_num(x):\n",
    "    \n",
    "    y=''\n",
    "    for i in x:\n",
    "        if i.isdigit()==False:\n",
    "            y+=i\n",
    "    return y"
   ]
  },
  {
   "cell_type": "code",
   "execution_count": 216,
   "id": "6fb40355-38a5-44dd-8bbe-970fef04d7df",
   "metadata": {},
   "outputs": [
    {
     "data": {
      "text/plain": [
       "'HyderabAAd  Telangana'"
      ]
     },
     "execution_count": 216,
     "metadata": {},
     "output_type": "execute_result"
    }
   ],
   "source": [
    "remove_num(t)"
   ]
  },
  {
   "cell_type": "code",
   "execution_count": 226,
   "id": "67070944-1211-4521-822d-83380b32a72f",
   "metadata": {},
   "outputs": [],
   "source": [
    "t='HyderabAAd 500008 Telangana'\n",
    "def remove_alpha(x):\n",
    "    \n",
    "    y=''\n",
    "    for i in x:\n",
    "        if i.isdigit()==True:\n",
    "            y+=i\n",
    "    return y"
   ]
  },
  {
   "cell_type": "code",
   "execution_count": 228,
   "id": "c0ab292a-d1e4-435b-9a21-ba4ef3113f8d",
   "metadata": {},
   "outputs": [
    {
     "data": {
      "text/plain": [
       "'500008'"
      ]
     },
     "execution_count": 228,
     "metadata": {},
     "output_type": "execute_result"
    }
   ],
   "source": [
    "remove_alpha(t)"
   ]
  },
  {
   "cell_type": "code",
   "execution_count": null,
   "id": "7d2d9702-8e35-4124-825a-b05393bcfe18",
   "metadata": {},
   "outputs": [],
   "source": []
  }
 ],
 "metadata": {
  "kernelspec": {
   "display_name": "Python [conda env:base] *",
   "language": "python",
   "name": "conda-base-py"
  },
  "language_info": {
   "codemirror_mode": {
    "name": "ipython",
    "version": 3
   },
   "file_extension": ".py",
   "mimetype": "text/x-python",
   "name": "python",
   "nbconvert_exporter": "python",
   "pygments_lexer": "ipython3",
   "version": "3.12.7"
  }
 },
 "nbformat": 4,
 "nbformat_minor": 5
}
